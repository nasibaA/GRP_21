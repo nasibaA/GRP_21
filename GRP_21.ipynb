{
 "cells": [
  {
   "cell_type": "code",
   "execution_count": 12,
   "id": "252b88a7",
   "metadata": {},
   "outputs": [
    {
     "data": {
      "text/plain": [
       "[\"Y'all\", \"I've\"]"
      ]
     },
     "execution_count": 12,
     "metadata": {},
     "output_type": "execute_result"
    }
   ],
   "source": [
    "import re \n",
    "from nltk.tokenize import regexp_tokenize\n",
    "\n",
    "this_string = \"Y'all are amazing,and I've loved teaching this class\"\n",
    "pattern1 = r\"\\w+'\\w+\"\n",
    "apost = regexp_tokenize(this_string, pattern1)\n",
    "apost"
   ]
  },
  {
   "cell_type": "code",
   "execution_count": null,
   "id": "20357af3",
   "metadata": {},
   "outputs": [],
   "source": []
  },
  {
   "cell_type": "code",
   "execution_count": null,
   "id": "8b5c9b77",
   "metadata": {},
   "outputs": [],
   "source": []
  },
  {
   "cell_type": "markdown",
   "id": "efdf4412",
   "metadata": {},
   "source": [
    "1. Make sure you can get the API from class to work in Azure. Take a screenshot of it\n",
    "working and add the image to a jupyter notebook."
   ]
  },
  {
   "cell_type": "code",
   "execution_count": null,
   "id": "58b0d3d7",
   "metadata": {},
   "outputs": [],
   "source": []
  },
  {
   "cell_type": "markdown",
   "id": "1ae2d3c6",
   "metadata": {},
   "source": [
    "2. Loop through the API data in python using the /gdp/<year> endpoint for your API. What\n",
    "does it look like? Is there a way to alter the html page to simplify what you see?"
   ]
  },
  {
   "cell_type": "code",
   "execution_count": null,
   "id": "2309e632",
   "metadata": {},
   "outputs": [],
   "source": []
  }
 ],
 "metadata": {
  "kernelspec": {
   "display_name": "Python 3 (ipykernel)",
   "language": "python",
   "name": "python3"
  },
  "language_info": {
   "codemirror_mode": {
    "name": "ipython",
    "version": 3
   },
   "file_extension": ".py",
   "mimetype": "text/x-python",
   "name": "python",
   "nbconvert_exporter": "python",
   "pygments_lexer": "ipython3",
   "version": "3.9.7"
  }
 },
 "nbformat": 4,
 "nbformat_minor": 5
}
